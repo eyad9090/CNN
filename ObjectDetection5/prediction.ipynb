{
 "cells": [
  {
   "cell_type": "code",
   "execution_count": 2,
   "id": "497eb3bc",
   "metadata": {},
   "outputs": [],
   "source": [
    "from keras import models\n",
    "\n",
    "c=models.load_model(r'D:\\university\\third year\\AI\\Projectttttttttttttt\\my_model.h5')"
   ]
  },
  {
   "cell_type": "code",
   "execution_count": 5,
   "id": "4d7c9044",
   "metadata": {},
   "outputs": [],
   "source": [
    "import pandas as pd\n",
    "import numpy as np\n",
    "import matplotlib.pyplot as plt\n",
    "get_ipython().run_line_magic('matplotlib', 'inline')\n",
    "import seaborn as sns\n",
    "sns.set(style=\"whitegrid\")\n",
    "import os\n",
    "import glob as gb\n",
    "import cv2\n",
    "import tensorflow as tf\n",
    "import keras"
   ]
  },
  {
   "cell_type": "code",
   "execution_count": 13,
   "id": "e301c7b2",
   "metadata": {},
   "outputs": [],
   "source": [
    "# to change every_folder with label  \n",
    "\n",
    "code = {'buildings':0 ,'forest':1,'glacier':2,'mountain':3,'sea':4,'street':5}\n",
    "\n",
    "\n",
    "#######################\n",
    "\n",
    "def getcode(n) : \n",
    "    for x , y in code.items() : \n",
    "        if n == y : \n",
    "            return x"
   ]
  },
  {
   "cell_type": "code",
   "execution_count": null,
   "id": "8090d0ff",
   "metadata": {},
   "outputs": [],
   "source": [
    "\n",
    "y_result = c.predict(X_pred_array)\n",
    "print('Prediction Shape is {}'.format(y_result.shape))"
   ]
  },
  {
   "cell_type": "code",
   "execution_count": 40,
   "id": "980dfdab",
   "metadata": {},
   "outputs": [
    {
     "name": "stdout",
     "output_type": "stream",
     "text": [
      "buildings\n"
     ]
    }
   ],
   "source": [
    "\n",
    "X_image = []\n",
    "image = cv2.imread(r'D:\\university\\third year\\AI\\Projectttttttttttttt\\check\\seg_pred\\seg_pred\\302.jpg')\n",
    "image_array = cv2.resize(image , (100,100))\n",
    "X_image.append(list(image_array))\n",
    "X_test=[]\n",
    "X_test.append(list(image_array))\n",
    "X_test = np.array(X_test)\n",
    "y_pred = c.predict(X_test)\n",
    "print(getcode(np.argmax(y_pred)))  "
   ]
  },
  {
   "cell_type": "code",
   "execution_count": null,
   "id": "6cd4fc65",
   "metadata": {},
   "outputs": [],
   "source": []
  }
 ],
 "metadata": {
  "kernelspec": {
   "display_name": "Python 3",
   "language": "python",
   "name": "python3"
  },
  "language_info": {
   "codemirror_mode": {
    "name": "ipython",
    "version": 3
   },
   "file_extension": ".py",
   "mimetype": "text/x-python",
   "name": "python",
   "nbconvert_exporter": "python",
   "pygments_lexer": "ipython3",
   "version": "3.8.8"
  }
 },
 "nbformat": 4,
 "nbformat_minor": 5
}
